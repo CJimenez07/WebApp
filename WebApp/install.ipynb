{
 "cells": [
  {
   "cell_type": "code",
   "execution_count": null,
   "metadata": {},
   "outputs": [],
   "source": [
    "pip install flask"
   ]
  },
  {
   "cell_type": "code",
   "execution_count": null,
   "metadata": {},
   "outputs": [
    {
     "name": "stdout",
     "output_type": "stream",
     "text": [
      "Requirement already satisfied: Flask in c:\\users\\césarjiménezagudelo\\appdata\\local\\programs\\python\\python312\\lib\\site-packages (3.0.3)\n",
      "Collecting pandas\n",
      "  Obtaining dependency information for pandas from https://files.pythonhosted.org/packages/22/a5/a0b255295406ed54269814bc93723cfd1a0da63fb9aaf99e1364f07923e5/pandas-2.2.2-cp312-cp312-win_amd64.whl.metadata\n",
      "  Downloading pandas-2.2.2-cp312-cp312-win_amd64.whl.metadata (19 kB)\n",
      "Requirement already satisfied: Werkzeug>=3.0.0 in c:\\users\\césarjiménezagudelo\\appdata\\local\\programs\\python\\python312\\lib\\site-packages (from Flask) (3.0.3)\n",
      "Requirement already satisfied: Jinja2>=3.1.2 in c:\\users\\césarjiménezagudelo\\appdata\\local\\programs\\python\\python312\\lib\\site-packages (from Flask) (3.1.4)\n",
      "Requirement already satisfied: itsdangerous>=2.1.2 in c:\\users\\césarjiménezagudelo\\appdata\\local\\programs\\python\\python312\\lib\\site-packages (from Flask) (2.2.0)\n",
      "Requirement already satisfied: click>=8.1.3 in c:\\users\\césarjiménezagudelo\\appdata\\local\\programs\\python\\python312\\lib\\site-packages (from Flask) (8.1.7)\n",
      "Requirement already satisfied: blinker>=1.6.2 in c:\\users\\césarjiménezagudelo\\appdata\\local\\programs\\python\\python312\\lib\\site-packages (from Flask) (1.8.2)\n",
      "Requirement already satisfied: numpy>=1.26.0 in c:\\users\\césarjiménezagudelo\\appdata\\local\\programs\\python\\python312\\lib\\site-packages (from pandas) (1.26.4)\n",
      "Requirement already satisfied: python-dateutil>=2.8.2 in c:\\users\\césarjiménezagudelo\\appdata\\roaming\\python\\python312\\site-packages (from pandas) (2.9.0.post0)\n",
      "Collecting pytz>=2020.1 (from pandas)\n",
      "  Obtaining dependency information for pytz>=2020.1 from https://files.pythonhosted.org/packages/9c/3d/a121f284241f08268b21359bd425f7d4825cffc5ac5cd0e1b3d82ffd2b10/pytz-2024.1-py2.py3-none-any.whl.metadata\n",
      "  Downloading pytz-2024.1-py2.py3-none-any.whl.metadata (22 kB)\n",
      "Collecting tzdata>=2022.7 (from pandas)\n",
      "  Obtaining dependency information for tzdata>=2022.7 from https://files.pythonhosted.org/packages/65/58/f9c9e6be752e9fcb8b6a0ee9fb87e6e7a1f6bcab2cdc73f02bb7ba91ada0/tzdata-2024.1-py2.py3-none-any.whl.metadata\n",
      "  Downloading tzdata-2024.1-py2.py3-none-any.whl.metadata (1.4 kB)\n",
      "Requirement already satisfied: colorama in c:\\users\\césarjiménezagudelo\\appdata\\roaming\\python\\python312\\site-packages (from click>=8.1.3->Flask) (0.4.6)\n",
      "Requirement already satisfied: MarkupSafe>=2.0 in c:\\users\\césarjiménezagudelo\\appdata\\local\\programs\\python\\python312\\lib\\site-packages (from Jinja2>=3.1.2->Flask) (2.1.5)\n",
      "Requirement already satisfied: six>=1.5 in c:\\users\\césarjiménezagudelo\\appdata\\roaming\\python\\python312\\site-packages (from python-dateutil>=2.8.2->pandas) (1.16.0)\n",
      "Downloading pandas-2.2.2-cp312-cp312-win_amd64.whl (11.5 MB)\n",
      "   ---------------------------------------- 0.0/11.5 MB ? eta -:--:--\n",
      "   ---------------------------------------- 0.0/11.5 MB 960.0 kB/s eta 0:00:12\n",
      "    --------------------------------------- 0.3/11.5 MB 3.1 MB/s eta 0:00:04\n",
      "   --- ------------------------------------ 0.9/11.5 MB 7.4 MB/s eta 0:00:02\n",
      "   ------ --------------------------------- 1.9/11.5 MB 10.8 MB/s eta 0:00:01\n",
      "   ---------- ----------------------------- 2.9/11.5 MB 13.4 MB/s eta 0:00:01\n",
      "   ------------- -------------------------- 4.0/11.5 MB 15.1 MB/s eta 0:00:01\n",
      "   ----------------- ---------------------- 5.2/11.5 MB 16.5 MB/s eta 0:00:01\n",
      "   -------------------- ------------------- 5.9/11.5 MB 16.4 MB/s eta 0:00:01\n",
      "   ---------------------- ----------------- 6.5/11.5 MB 16.5 MB/s eta 0:00:01\n",
      "   ------------------------ --------------- 7.1/11.5 MB 15.5 MB/s eta 0:00:01\n",
      "   -------------------------- ------------- 7.5/11.5 MB 15.4 MB/s eta 0:00:01\n",
      "   ---------------------------- ----------- 8.3/11.5 MB 15.1 MB/s eta 0:00:01\n",
      "   -------------------------------- ------- 9.3/11.5 MB 16.0 MB/s eta 0:00:01\n",
      "   ------------------------------------ --- 10.6/11.5 MB 18.7 MB/s eta 0:00:01\n",
      "   ---------------------------------------  11.4/11.5 MB 19.3 MB/s eta 0:00:01\n",
      "   ---------------------------------------  11.5/11.5 MB 19.3 MB/s eta 0:00:01\n",
      "   ---------------------------------------  11.5/11.5 MB 19.3 MB/s eta 0:00:01\n",
      "   ---------------------------------------  11.5/11.5 MB 19.3 MB/s eta 0:00:01\n",
      "   ---------------------------------------  11.5/11.5 MB 19.3 MB/s eta 0:00:01\n",
      "   ---------------------------------------- 11.5/11.5 MB 13.9 MB/s eta 0:00:00\n",
      "Downloading pytz-2024.1-py2.py3-none-any.whl (505 kB)\n",
      "   ---------------------------------------- 0.0/505.5 kB ? eta -:--:--\n",
      "   --------------------------------------- 505.5/505.5 kB 16.0 MB/s eta 0:00:00\n",
      "Downloading tzdata-2024.1-py2.py3-none-any.whl (345 kB)\n",
      "   ---------------------------------------- 0.0/345.4 kB ? eta -:--:--\n",
      "   --------------------------------------  337.9/345.4 kB 10.6 MB/s eta 0:00:01\n",
      "   ---------------------------------------- 345.4/345.4 kB 7.1 MB/s eta 0:00:00\n",
      "Installing collected packages: pytz, tzdata, pandas\n",
      "Successfully installed pandas-2.2.2 pytz-2024.1 tzdata-2024.1\n",
      "Note: you may need to restart the kernel to use updated packages.\n"
     ]
    },
    {
     "name": "stderr",
     "output_type": "stream",
     "text": [
      "\n",
      "[notice] A new release of pip is available: 23.2.1 -> 24.0\n",
      "[notice] To update, run: python.exe -m pip install --upgrade pip\n"
     ]
    }
   ],
   "source": [
    "pip install Flask pandas"
   ]
  },
  {
   "cell_type": "code",
   "execution_count": 1,
   "metadata": {},
   "outputs": [
    {
     "name": "stdout",
     "output_type": "stream",
     "text": [
      "Note: you may need to restart the kernel to use updated packages.\n",
      "Collecting openpyxl\n",
      "  Obtaining dependency information for openpyxl from https://files.pythonhosted.org/packages/58/d9/796181a30827b12101786c21301f0f4536597a9249530916b1fdb5bbad91/openpyxl-3.1.3-py2.py3-none-any.whl.metadata\n",
      "  Downloading openpyxl-3.1.3-py2.py3-none-any.whl.metadata (2.5 kB)\n",
      "Collecting et-xmlfile (from openpyxl)\n",
      "  Obtaining dependency information for et-xmlfile from https://files.pythonhosted.org/packages/96/c2/3dd434b0108730014f1b96fd286040dc3bcb70066346f7e01ec2ac95865f/et_xmlfile-1.1.0-py3-none-any.whl.metadata\n",
      "  Downloading et_xmlfile-1.1.0-py3-none-any.whl.metadata (1.8 kB)\n",
      "Downloading openpyxl-3.1.3-py2.py3-none-any.whl (251 kB)\n",
      "   ---------------------------------------- 0.0/251.3 kB ? eta -:--:--\n",
      "   ---------------------------------------- 0.0/251.3 kB ? eta -:--:--\n",
      "   ---- ---------------------------------- 30.7/251.3 kB 660.6 kB/s eta 0:00:01\n",
      "   ---- ---------------------------------- 30.7/251.3 kB 660.6 kB/s eta 0:00:01\n",
      "   ------------------ ------------------- 122.9/251.3 kB 901.1 kB/s eta 0:00:01\n",
      "   ------------------------------ --------- 194.6/251.3 kB 1.1 MB/s eta 0:00:01\n",
      "   ---------------------------------------- 251.3/251.3 kB 1.1 MB/s eta 0:00:00\n",
      "Downloading et_xmlfile-1.1.0-py3-none-any.whl (4.7 kB)\n",
      "Installing collected packages: et-xmlfile, openpyxl\n",
      "Successfully installed et-xmlfile-1.1.0 openpyxl-3.1.3\n"
     ]
    },
    {
     "name": "stderr",
     "output_type": "stream",
     "text": [
      "\n",
      "[notice] A new release of pip is available: 23.2.1 -> 24.0\n",
      "[notice] To update, run: python.exe -m pip install --upgrade pip\n"
     ]
    }
   ],
   "source": [
    "pip install openpyxl"
   ]
  }
 ],
 "metadata": {
  "kernelspec": {
   "display_name": "Python 3",
   "language": "python",
   "name": "python3"
  },
  "language_info": {
   "codemirror_mode": {
    "name": "ipython",
    "version": 3
   },
   "file_extension": ".py",
   "mimetype": "text/x-python",
   "name": "python",
   "nbconvert_exporter": "python",
   "pygments_lexer": "ipython3",
   "version": "3.12.0"
  }
 },
 "nbformat": 4,
 "nbformat_minor": 2
}
